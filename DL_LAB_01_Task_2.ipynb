{
  "nbformat": 4,
  "nbformat_minor": 0,
  "metadata": {
    "colab": {
      "provenance": [],
      "authorship_tag": "ABX9TyMH+Vj79nZctUHrVZqGtAnh",
      "include_colab_link": true
    },
    "kernelspec": {
      "name": "python3",
      "display_name": "Python 3"
    },
    "language_info": {
      "name": "python"
    }
  },
  "cells": [
    {
      "cell_type": "markdown",
      "metadata": {
        "id": "view-in-github",
        "colab_type": "text"
      },
      "source": [
        "<a href=\"https://colab.research.google.com/github/mhmdaathif/DeepLearning/blob/main/DL_LAB_01_Task_2.ipynb\" target=\"_parent\"><img src=\"https://colab.research.google.com/assets/colab-badge.svg\" alt=\"Open In Colab\"/></a>"
      ]
    },
    {
      "cell_type": "code",
      "execution_count": 1,
      "metadata": {
        "id": "UguP2WPW4V8t"
      },
      "outputs": [],
      "source": [
        "import numpy as np\n",
        "import seaborn as sns\n",
        "import pandas as pd"
      ]
    },
    {
      "cell_type": "code",
      "source": [
        "au_na_data = pd.read_csv('/content/sample_data/Au_nanoparticle_dataset.csv')"
      ],
      "metadata": {
        "id": "eJYKs_jd4guC"
      },
      "execution_count": null,
      "outputs": []
    },
    {
      "cell_type": "code",
      "source": [
        "print(au_na_data)"
      ],
      "metadata": {
        "id": "sm1bYvv_4wQH"
      },
      "execution_count": null,
      "outputs": []
    },
    {
      "cell_type": "code",
      "source": [
        "print(au_na_data.shape)"
      ],
      "metadata": {
        "id": "_0zz4ak255tn"
      },
      "execution_count": null,
      "outputs": []
    },
    {
      "cell_type": "code",
      "source": [
        "au_na_data.head()"
      ],
      "metadata": {
        "id": "U37iRNvG55ul"
      },
      "execution_count": null,
      "outputs": []
    },
    {
      "cell_type": "code",
      "source": [
        "for i in range(au_na_data.shape[0]):\n",
        "  n_sum = (au_na_data['N_bulk'][i] + au_na_data['N_surface'][i])\n",
        "  assert n_sum == au_na_data['N_total'][i]\n",
        "  if(au_na_data.shape[0]-1) ==i:\n",
        "    print('all N-bulk and N_surface add up to total')"
      ],
      "metadata": {
        "id": "aay5UdBB6CrZ"
      },
      "execution_count": null,
      "outputs": []
    },
    {
      "cell_type": "code",
      "source": [
        "au_na_data[['N_total', 'N_bulk', 'N_surface', 'R_avg']].describe()"
      ],
      "metadata": {
        "id": "LwbHHjaL6I-m"
      },
      "execution_count": null,
      "outputs": []
    },
    {
      "cell_type": "code",
      "source": [
        "au_na_data[['N_total', 'N_bulk', 'N_surface', 'R_avg']].head(20)"
      ],
      "metadata": {
        "id": "njl9o-oz6I_8"
      },
      "execution_count": null,
      "outputs": []
    },
    {
      "cell_type": "code",
      "source": [
        "import matplotlib.pyplot as plt"
      ],
      "metadata": {
        "id": "FlL9iov16RAn"
      },
      "execution_count": null,
      "outputs": []
    },
    {
      "cell_type": "code",
      "source": [
        "for feature in ['N_total','N_bulk','N_surface','R_avg']:\n",
        "  print(f'Feature: {feature}')\n",
        "  print('Mean:', au_na_data[feature].mean())\n",
        "  print('Standard deviation:', au_na_data[feature].std())\n",
        "  print('Quartile 1:', au_na_data[feature].quantile(0.25))\n",
        "  print('Quartile 3:', au_na_data[feature].quantile(0.75))\n",
        "  print('\\n')"
      ],
      "metadata": {
        "id": "JlkafMuS6RnG"
      },
      "execution_count": null,
      "outputs": []
    },
    {
      "cell_type": "code",
      "source": [
        "au_na_data.loc[:,['N_total','N_bulk','N_surface','R_avg']].hist(layout=(1,4),bins=20,figsize=(40,10))\n",
        "plt.show()"
      ],
      "metadata": {
        "id": "Ow_weTIj6Y1d"
      },
      "execution_count": null,
      "outputs": []
    },
    {
      "cell_type": "code",
      "source": [
        "df = pd.DataFrame(au_na_data[['N_total','N_bulk','N_surface','R_avg']])\n",
        "sns.pairplot(df)\n",
        "plt.show()"
      ],
      "metadata": {
        "id": "0rfn27yO6dtV"
      },
      "execution_count": null,
      "outputs": []
    },
    {
      "cell_type": "code",
      "source": [
        "new_df =au_na_data[['N_total','N_bulk','N_surface','R_avg']]\n",
        "g = sns.PairGrid(new_df)\n",
        "g.map_upper(sns.histplot)\n",
        "g.map_diag(sns.histplot)\n",
        "g.map_lower(sns.kdeplot)"
      ],
      "metadata": {
        "id": "NDnKLsDl6l01"
      },
      "execution_count": null,
      "outputs": []
    },
    {
      "cell_type": "code",
      "source": [
        "g = sns.PairGrid(new_df)\n",
        "\n",
        "g.map_upper(sns.histplot)\n",
        "\n",
        "g.map_diag(sns.histplot, kde=True)\n",
        "\n",
        "g.map_lower(sns.kdeplot)\n",
        "\n",
        "plt.show()"
      ],
      "metadata": {
        "id": "OL4nHcU76p4W"
      },
      "execution_count": null,
      "outputs": []
    }
  ]
}